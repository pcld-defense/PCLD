{
 "cells": [
  {
   "cell_type": "markdown",
   "id": "95c13c57",
   "metadata": {},
   "source": [
    "# Get the subset of ImageNet from kaggle\n",
    "#### Note that in this notebook, in order to extract the subset we need,\n",
    "#### we will first download the entire dataset from [Kaggle](https://www.kaggle.com/c/imagenet-object-localization-challenge/overview/description),\n",
    "#### then we will extract only the subset we need."
   ]
  },
  {
   "cell_type": "markdown",
   "id": "a76eab14",
   "metadata": {},
   "source": [
    "## 0. Import necessary modules"
   ]
  },
  {
   "cell_type": "code",
   "id": "283966ea",
   "metadata": {
    "jupyter": {
     "is_executing": true
    }
   },
   "source": [
    "import os\n",
    "import zipfile\n",
    "import shutil\n",
    "import pandas as pd\n",
    "from PIL import Image\n",
    "import random\n",
    "import warnings\n",
    "\n",
    "# Set the seed\n",
    "random.seed(42)\n",
    "# Filter warnings\n",
    "warnings.filterwarnings(\"ignore\")\n"
   ],
   "outputs": [],
   "execution_count": null
  },
  {
   "cell_type": "markdown",
   "id": "0fcf0463",
   "metadata": {},
   "source": [
    "## 1. Install Kaggle"
   ]
  },
  {
   "cell_type": "code",
   "id": "a436d3e4",
   "metadata": {},
   "source": [
    "!pip install kaggle\n"
   ],
   "outputs": [],
   "execution_count": null
  },
  {
   "cell_type": "markdown",
   "id": "8cb67658",
   "metadata": {},
   "source": [
    "## 2. Obtain the Kaggle API Token by downloading it personally\n",
    "\n",
    "#### * [Log in](https://www.kaggle.com/account/login) to Kaggle website.\n",
    "#### * Click on your profile picture at the top right and navigate to **Settings**.\n",
    "#### * Scroll down to the **API** section and click on **Create New Token** (Are you sure? -> continue).\n",
    "#### * This action will download a kaggle.json file."
   ]
  },
  {
   "cell_type": "markdown",
   "id": "a0da4ca5",
   "metadata": {},
   "source": [
    "## 3. Move the \"kaggle.json\" file to \"~/.kaggle\" directory"
   ]
  },
  {
   "cell_type": "markdown",
   "id": "5c7e0d5f",
   "metadata": {},
   "source": [
    "Create the .kaggle directory in your home folder"
   ]
  },
  {
   "cell_type": "code",
   "execution_count": 3,
   "id": "78dbf595",
   "metadata": {},
   "outputs": [],
   "source": [
    "!mkdir -p ~/.kaggle"
   ]
  },
  {
   "cell_type": "markdown",
   "id": "753a3308",
   "metadata": {},
   "source": [
    "Move the kaggle.json file. Replace '/path/to/kaggle.json' with the actual path to the downloaded file."
   ]
  },
  {
   "cell_type": "code",
   "execution_count": 4,
   "id": "f0a07d3c",
   "metadata": {},
   "outputs": [],
   "source": [
    "!mv /Users/your_user/Downloads/kaggle.json ~/.kaggle/"
   ]
  },
  {
   "cell_type": "markdown",
   "id": "1b7b2969",
   "metadata": {},
   "source": [
    "Set the file permissions"
   ]
  },
  {
   "cell_type": "code",
   "execution_count": 5,
   "id": "da00a873",
   "metadata": {},
   "outputs": [],
   "source": [
    "!chmod 600 ~/.kaggle/kaggle.json"
   ]
  },
  {
   "cell_type": "markdown",
   "id": "549408a5",
   "metadata": {},
   "source": [
    "## 4. Download the full dataset"
   ]
  },
  {
   "cell_type": "code",
   "id": "320ad29d",
   "metadata": {},
   "source": [
    "!kaggle competitions download -c imagenet-object-localization-challenge\n"
   ],
   "outputs": [],
   "execution_count": null
  },
  {
   "cell_type": "markdown",
   "id": "747807a5",
   "metadata": {},
   "source": [
    "## 5. Extract (unzip) the downloaded file"
   ]
  },
  {
   "cell_type": "code",
   "execution_count": 3,
   "id": "d728acc9",
   "metadata": {},
   "outputs": [
    {
     "name": "stdout",
     "output_type": "stream",
     "text": [
      "Files extracted to .\n"
     ]
    }
   ],
   "source": [
    "# Path to your zip file\n",
    "zip_file_path = 'imagenet-object-localization-challenge.zip'\n",
    "# Directory to extract to\n",
    "extract_to_dir = '.'\n",
    "os.makedirs(extract_to_dir, exist_ok=True)\n",
    "\n",
    "with zipfile.ZipFile(zip_file_path, 'r') as zip_ref:\n",
    "    zip_ref.extractall(extract_to_dir)\n",
    "\n",
    "print(f\"Files extracted to {extract_to_dir}\")\n"
   ]
  },
  {
   "cell_type": "markdown",
   "id": "933a105b",
   "metadata": {},
   "source": [
    "## 6. Copy a subset to the \"resourses/dataset\" directory (and resize the images to 300x300)"
   ]
  },
  {
   "cell_type": "markdown",
   "id": "dc8ce386",
   "metadata": {},
   "source": [
    "For resizing images"
   ]
  },
  {
   "cell_type": "code",
   "id": "8b632f24",
   "metadata": {},
   "source": [
    "!pip install Pillow\n"
   ],
   "outputs": [],
   "execution_count": null
  },
  {
   "cell_type": "markdown",
   "id": "bc11e995",
   "metadata": {},
   "source": [
    "Load the list of required images"
   ]
  },
  {
   "cell_type": "code",
   "execution_count": 7,
   "id": "8e79da15",
   "metadata": {},
   "outputs": [
    {
     "data": {
      "text/plain": "        image_name_full image_folder animal phase_source phase_destination\n0   n02124075_8866.JPEG    n02124075    cat        train              test\n1  n02124075_13357.JPEG    n02124075    cat        train              test\n2   n02124075_8133.JPEG    n02124075    cat        train              test\n3   n02123045_1932.JPEG    n02123045    cat        train              test\n4   n02123597_5678.JPEG    n02123597    cat        train              test",
      "text/html": "<div>\n<style scoped>\n    .dataframe tbody tr th:only-of-type {\n        vertical-align: middle;\n    }\n\n    .dataframe tbody tr th {\n        vertical-align: top;\n    }\n\n    .dataframe thead th {\n        text-align: right;\n    }\n</style>\n<table border=\"1\" class=\"dataframe\">\n  <thead>\n    <tr style=\"text-align: right;\">\n      <th></th>\n      <th>image_name_full</th>\n      <th>image_folder</th>\n      <th>animal</th>\n      <th>phase_source</th>\n      <th>phase_destination</th>\n    </tr>\n  </thead>\n  <tbody>\n    <tr>\n      <th>0</th>\n      <td>n02124075_8866.JPEG</td>\n      <td>n02124075</td>\n      <td>cat</td>\n      <td>train</td>\n      <td>test</td>\n    </tr>\n    <tr>\n      <th>1</th>\n      <td>n02124075_13357.JPEG</td>\n      <td>n02124075</td>\n      <td>cat</td>\n      <td>train</td>\n      <td>test</td>\n    </tr>\n    <tr>\n      <th>2</th>\n      <td>n02124075_8133.JPEG</td>\n      <td>n02124075</td>\n      <td>cat</td>\n      <td>train</td>\n      <td>test</td>\n    </tr>\n    <tr>\n      <th>3</th>\n      <td>n02123045_1932.JPEG</td>\n      <td>n02123045</td>\n      <td>cat</td>\n      <td>train</td>\n      <td>test</td>\n    </tr>\n    <tr>\n      <th>4</th>\n      <td>n02123597_5678.JPEG</td>\n      <td>n02123597</td>\n      <td>cat</td>\n      <td>train</td>\n      <td>test</td>\n    </tr>\n  </tbody>\n</table>\n</div>"
     },
     "execution_count": 7,
     "metadata": {},
     "output_type": "execute_result"
    }
   ],
   "source": [
    "images_df = pd.read_csv('subset_of_imagenet_images_list.csv')\n",
    "images_df.head()\n"
   ]
  },
  {
   "cell_type": "markdown",
   "id": "0202d02b",
   "metadata": {},
   "source": [
    "Resize and copy the required images to the destination directory"
   ]
  },
  {
   "cell_type": "code",
   "execution_count": 9,
   "id": "f9881fd5",
   "metadata": {},
   "outputs": [],
   "source": [
    "datasets_main_dir = '../resources/datasets'\n",
    "\n",
    "# Path to the directory where the unzipped files are stored\n",
    "dataset_dir = extract_to_dir + '/ILSVRC/Data/CLS-LOC'\n",
    "# Path to the directory where you want to store the subset\n",
    "subset_dir = datasets_main_dir + '/subset_of_imagenet'\n",
    "os.makedirs(subset_dir, exist_ok=True)\n",
    "\n",
    "i = 0\n",
    "for i in range(images_df.shape[0]):\n",
    "    img_row = images_df.iloc[i:i+1, :]\n",
    "    # Build the source path\n",
    "    phase_source = max(img_row['phase_source'])\n",
    "    image_folder = max(img_row['image_folder'])\n",
    "    image_name_full = max(img_row['image_name_full'])\n",
    "    source_path = os.path.join(dataset_dir, phase_source, image_folder, image_name_full)\n",
    "    \n",
    "    # Build the destination path\n",
    "    phase_destination = max(img_row['phase_destination'])\n",
    "    animal = max(img_row['animal'])\n",
    "    destination_dir = os.path.join(subset_dir, phase_destination, animal)\n",
    "    destination_path = os.path.join(destination_dir, image_name_full.replace('JPEG', 'png'))\n",
    "    os.makedirs(destination_dir, exist_ok=True)\n",
    "    \n",
    "    # Resize and save the image\n",
    "    img = Image.open(source_path)\n",
    "    resized_img = img.resize((300, 300), Image.Resampling.LANCZOS)\n",
    "    resized_img.save(destination_path)\n",
    "    i += 1\n",
    "    if i % 500 == 0:\n",
    "        print(f'{i} images already copied')\n",
    "\n",
    "print(f'finished! check {subset_dir} folder!')\n"
   ]
  },
  {
   "cell_type": "markdown",
   "id": "9bf9ed61",
   "metadata": {},
   "source": [
    "## ------------------ Sample a Small (Toy) Dataset ------------------\n",
    "#### If you wish to work with few samples run the following code as well"
   ]
  },
  {
   "cell_type": "code",
   "execution_count": 10,
   "id": "6ad3fff6",
   "metadata": {},
   "outputs": [
    {
     "name": "stdout",
     "output_type": "stream",
     "text": [
      "phase: test, animal: cat\n",
      "phase: test, animal: butterfly\n",
      "phase: test, animal: dog\n",
      "phase: test, animal: spider\n",
      "phase: test, animal: chicken\n",
      "phase: test, animal: squirrel\n",
      "phase: test, animal: elephant\n",
      "phase: train_full, animal: cat\n",
      "phase: train_full, animal: butterfly\n",
      "phase: train_full, animal: dog\n",
      "phase: train_full, animal: spider\n",
      "phase: train_full, animal: chicken\n",
      "phase: train_full, animal: squirrel\n",
      "phase: train_full, animal: elephant\n",
      "phase: train, animal: cat\n",
      "phase: train, animal: butterfly\n",
      "phase: train, animal: dog\n",
      "phase: train, animal: spider\n",
      "phase: train, animal: chicken\n",
      "phase: train, animal: squirrel\n",
      "phase: train, animal: elephant\n",
      "phase: val, animal: cat\n",
      "phase: val, animal: butterfly\n",
      "phase: val, animal: dog\n",
      "phase: val, animal: spider\n",
      "phase: val, animal: chicken\n",
      "phase: val, animal: squirrel\n",
      "phase: val, animal: elephant\n",
      "finished! check ../resources/datasets/subset_of_imagenet_sample folder!\n"
     ]
    }
   ],
   "source": [
    "# how many samples to take from each type of animal\n",
    "n_samples_train = 49\n",
    "n_samples_validation = 7\n",
    "n_samples_test = 14\n",
    "n_samples_train_full = n_samples_train + n_samples_validation\n",
    "\n",
    "\n",
    "subset_sample_dir = datasets_main_dir + '/subset_of_imagenet_sample'\n",
    "os.makedirs(subset_sample_dir, exist_ok=True)\n",
    "\n",
    "def copy_images(source_dir, destination_dir, image_files):\n",
    "    for file_name in image_files:\n",
    "        source_file = os.path.join(source_dir, file_name)\n",
    "        destination_file = os.path.join(destination_dir, file_name)\n",
    "        shutil.copy(source_file, destination_file)\n",
    "\n",
    "for dir_path, dir_names, files in os.walk(subset_dir):\n",
    "    if files and '.DS_Store' not in files:\n",
    "        dir_path_splt = dir_path.split('/')\n",
    "        phase = dir_path_splt[-2]\n",
    "        animal = dir_path_splt[-1]\n",
    "        \n",
    "        print(f'phase: {phase}, animal: {animal}')\n",
    "        \n",
    "        if phase == 'train_full':\n",
    "            n = n_samples_train_full\n",
    "        elif phase == 'train':\n",
    "            n = n_samples_train\n",
    "        elif phase == 'val':\n",
    "            n = n_samples_validation\n",
    "        else:\n",
    "            n = n_samples_test\n",
    "            \n",
    "        # sample images paths\n",
    "        image_files = random.sample(files, n)\n",
    "        # copy images to the sample folder\n",
    "        destination_dir = os.path.join(subset_sample_dir, phase, animal)\n",
    "        os.makedirs(destination_dir, exist_ok=True)\n",
    "        copy_images(dir_path, destination_dir, image_files)\n",
    "\n",
    "print(f'finished! check {subset_sample_dir} folder!')"
   ]
  },
  {
   "cell_type": "markdown",
   "source": [
    "## 7. Remove the full dataset as we copied all images we need"
   ],
   "metadata": {
    "collapsed": false,
    "pycharm": {
     "name": "#%% md\n"
    }
   },
   "id": "cb71ce21cff00632"
  },
  {
   "cell_type": "code",
   "execution_count": 13,
   "outputs": [
    {
     "ename": "OSError",
     "evalue": "[Errno 66] Directory not empty: '../resources/ILSVRC/Annotations/CLS-LOC/train'",
     "output_type": "error",
     "traceback": [
      "\u001B[0;31m---------------------------------------------------------------------------\u001B[0m",
      "\u001B[0;31mOSError\u001B[0m                                   Traceback (most recent call last)",
      "\u001B[0;32m/var/folders/9h/3n3jjn2x4fg47_my_tgsg3440000gn/T/ipykernel_933/3073758472.py\u001B[0m in \u001B[0;36m<cell line: 2>\u001B[0;34m()\u001B[0m\n\u001B[1;32m      1\u001B[0m \u001B[0;32mimport\u001B[0m \u001B[0mshutil\u001B[0m\u001B[0;34m\u001B[0m\u001B[0;34m\u001B[0m\u001B[0m\n\u001B[0;32m----> 2\u001B[0;31m \u001B[0mshutil\u001B[0m\u001B[0;34m.\u001B[0m\u001B[0mrmtree\u001B[0m\u001B[0;34m(\u001B[0m\u001B[0;34m'../resources/ILSVRC'\u001B[0m\u001B[0;34m)\u001B[0m\u001B[0;34m\u001B[0m\u001B[0;34m\u001B[0m\u001B[0m\n\u001B[0m",
      "\u001B[0;32m/Library/Frameworks/Python.framework/Versions/3.8/lib/python3.8/shutil.py\u001B[0m in \u001B[0;36mrmtree\u001B[0;34m(path, ignore_errors, onerror)\u001B[0m\n\u001B[1;32m    738\u001B[0m             \u001B[0;31m# can't continue even if onerror hook returns\u001B[0m\u001B[0;34m\u001B[0m\u001B[0;34m\u001B[0m\u001B[0;34m\u001B[0m\u001B[0m\n\u001B[1;32m    739\u001B[0m             \u001B[0;32mreturn\u001B[0m\u001B[0;34m\u001B[0m\u001B[0;34m\u001B[0m\u001B[0m\n\u001B[0;32m--> 740\u001B[0;31m         \u001B[0;32mreturn\u001B[0m \u001B[0m_rmtree_unsafe\u001B[0m\u001B[0;34m(\u001B[0m\u001B[0mpath\u001B[0m\u001B[0;34m,\u001B[0m \u001B[0monerror\u001B[0m\u001B[0;34m)\u001B[0m\u001B[0;34m\u001B[0m\u001B[0;34m\u001B[0m\u001B[0m\n\u001B[0m\u001B[1;32m    741\u001B[0m \u001B[0;34m\u001B[0m\u001B[0m\n\u001B[1;32m    742\u001B[0m \u001B[0;31m# Allow introspection of whether or not the hardening against symlink\u001B[0m\u001B[0;34m\u001B[0m\u001B[0;34m\u001B[0m\u001B[0;34m\u001B[0m\u001B[0m\n",
      "\u001B[0;32m/Library/Frameworks/Python.framework/Versions/3.8/lib/python3.8/shutil.py\u001B[0m in \u001B[0;36m_rmtree_unsafe\u001B[0;34m(path, onerror)\u001B[0m\n\u001B[1;32m    611\u001B[0m                 \u001B[0monerror\u001B[0m\u001B[0;34m(\u001B[0m\u001B[0mos\u001B[0m\u001B[0;34m.\u001B[0m\u001B[0mpath\u001B[0m\u001B[0;34m.\u001B[0m\u001B[0mislink\u001B[0m\u001B[0;34m,\u001B[0m \u001B[0mfullname\u001B[0m\u001B[0;34m,\u001B[0m \u001B[0msys\u001B[0m\u001B[0;34m.\u001B[0m\u001B[0mexc_info\u001B[0m\u001B[0;34m(\u001B[0m\u001B[0;34m)\u001B[0m\u001B[0;34m)\u001B[0m\u001B[0;34m\u001B[0m\u001B[0;34m\u001B[0m\u001B[0m\n\u001B[1;32m    612\u001B[0m                 \u001B[0;32mcontinue\u001B[0m\u001B[0;34m\u001B[0m\u001B[0;34m\u001B[0m\u001B[0m\n\u001B[0;32m--> 613\u001B[0;31m             \u001B[0m_rmtree_unsafe\u001B[0m\u001B[0;34m(\u001B[0m\u001B[0mfullname\u001B[0m\u001B[0;34m,\u001B[0m \u001B[0monerror\u001B[0m\u001B[0;34m)\u001B[0m\u001B[0;34m\u001B[0m\u001B[0;34m\u001B[0m\u001B[0m\n\u001B[0m\u001B[1;32m    614\u001B[0m         \u001B[0;32melse\u001B[0m\u001B[0;34m:\u001B[0m\u001B[0;34m\u001B[0m\u001B[0;34m\u001B[0m\u001B[0m\n\u001B[1;32m    615\u001B[0m             \u001B[0;32mtry\u001B[0m\u001B[0;34m:\u001B[0m\u001B[0;34m\u001B[0m\u001B[0;34m\u001B[0m\u001B[0m\n",
      "\u001B[0;32m/Library/Frameworks/Python.framework/Versions/3.8/lib/python3.8/shutil.py\u001B[0m in \u001B[0;36m_rmtree_unsafe\u001B[0;34m(path, onerror)\u001B[0m\n\u001B[1;32m    611\u001B[0m                 \u001B[0monerror\u001B[0m\u001B[0;34m(\u001B[0m\u001B[0mos\u001B[0m\u001B[0;34m.\u001B[0m\u001B[0mpath\u001B[0m\u001B[0;34m.\u001B[0m\u001B[0mislink\u001B[0m\u001B[0;34m,\u001B[0m \u001B[0mfullname\u001B[0m\u001B[0;34m,\u001B[0m \u001B[0msys\u001B[0m\u001B[0;34m.\u001B[0m\u001B[0mexc_info\u001B[0m\u001B[0;34m(\u001B[0m\u001B[0;34m)\u001B[0m\u001B[0;34m)\u001B[0m\u001B[0;34m\u001B[0m\u001B[0;34m\u001B[0m\u001B[0m\n\u001B[1;32m    612\u001B[0m                 \u001B[0;32mcontinue\u001B[0m\u001B[0;34m\u001B[0m\u001B[0;34m\u001B[0m\u001B[0m\n\u001B[0;32m--> 613\u001B[0;31m             \u001B[0m_rmtree_unsafe\u001B[0m\u001B[0;34m(\u001B[0m\u001B[0mfullname\u001B[0m\u001B[0;34m,\u001B[0m \u001B[0monerror\u001B[0m\u001B[0;34m)\u001B[0m\u001B[0;34m\u001B[0m\u001B[0;34m\u001B[0m\u001B[0m\n\u001B[0m\u001B[1;32m    614\u001B[0m         \u001B[0;32melse\u001B[0m\u001B[0;34m:\u001B[0m\u001B[0;34m\u001B[0m\u001B[0;34m\u001B[0m\u001B[0m\n\u001B[1;32m    615\u001B[0m             \u001B[0;32mtry\u001B[0m\u001B[0;34m:\u001B[0m\u001B[0;34m\u001B[0m\u001B[0;34m\u001B[0m\u001B[0m\n",
      "\u001B[0;32m/Library/Frameworks/Python.framework/Versions/3.8/lib/python3.8/shutil.py\u001B[0m in \u001B[0;36m_rmtree_unsafe\u001B[0;34m(path, onerror)\u001B[0m\n\u001B[1;32m    611\u001B[0m                 \u001B[0monerror\u001B[0m\u001B[0;34m(\u001B[0m\u001B[0mos\u001B[0m\u001B[0;34m.\u001B[0m\u001B[0mpath\u001B[0m\u001B[0;34m.\u001B[0m\u001B[0mislink\u001B[0m\u001B[0;34m,\u001B[0m \u001B[0mfullname\u001B[0m\u001B[0;34m,\u001B[0m \u001B[0msys\u001B[0m\u001B[0;34m.\u001B[0m\u001B[0mexc_info\u001B[0m\u001B[0;34m(\u001B[0m\u001B[0;34m)\u001B[0m\u001B[0;34m)\u001B[0m\u001B[0;34m\u001B[0m\u001B[0;34m\u001B[0m\u001B[0m\n\u001B[1;32m    612\u001B[0m                 \u001B[0;32mcontinue\u001B[0m\u001B[0;34m\u001B[0m\u001B[0;34m\u001B[0m\u001B[0m\n\u001B[0;32m--> 613\u001B[0;31m             \u001B[0m_rmtree_unsafe\u001B[0m\u001B[0;34m(\u001B[0m\u001B[0mfullname\u001B[0m\u001B[0;34m,\u001B[0m \u001B[0monerror\u001B[0m\u001B[0;34m)\u001B[0m\u001B[0;34m\u001B[0m\u001B[0;34m\u001B[0m\u001B[0m\n\u001B[0m\u001B[1;32m    614\u001B[0m         \u001B[0;32melse\u001B[0m\u001B[0;34m:\u001B[0m\u001B[0;34m\u001B[0m\u001B[0;34m\u001B[0m\u001B[0m\n\u001B[1;32m    615\u001B[0m             \u001B[0;32mtry\u001B[0m\u001B[0;34m:\u001B[0m\u001B[0;34m\u001B[0m\u001B[0;34m\u001B[0m\u001B[0m\n",
      "\u001B[0;32m/Library/Frameworks/Python.framework/Versions/3.8/lib/python3.8/shutil.py\u001B[0m in \u001B[0;36m_rmtree_unsafe\u001B[0;34m(path, onerror)\u001B[0m\n\u001B[1;32m    620\u001B[0m         \u001B[0mos\u001B[0m\u001B[0;34m.\u001B[0m\u001B[0mrmdir\u001B[0m\u001B[0;34m(\u001B[0m\u001B[0mpath\u001B[0m\u001B[0;34m)\u001B[0m\u001B[0;34m\u001B[0m\u001B[0;34m\u001B[0m\u001B[0m\n\u001B[1;32m    621\u001B[0m     \u001B[0;32mexcept\u001B[0m \u001B[0mOSError\u001B[0m\u001B[0;34m:\u001B[0m\u001B[0;34m\u001B[0m\u001B[0;34m\u001B[0m\u001B[0m\n\u001B[0;32m--> 622\u001B[0;31m         \u001B[0monerror\u001B[0m\u001B[0;34m(\u001B[0m\u001B[0mos\u001B[0m\u001B[0;34m.\u001B[0m\u001B[0mrmdir\u001B[0m\u001B[0;34m,\u001B[0m \u001B[0mpath\u001B[0m\u001B[0;34m,\u001B[0m \u001B[0msys\u001B[0m\u001B[0;34m.\u001B[0m\u001B[0mexc_info\u001B[0m\u001B[0;34m(\u001B[0m\u001B[0;34m)\u001B[0m\u001B[0;34m)\u001B[0m\u001B[0;34m\u001B[0m\u001B[0;34m\u001B[0m\u001B[0m\n\u001B[0m\u001B[1;32m    623\u001B[0m \u001B[0;34m\u001B[0m\u001B[0m\n\u001B[1;32m    624\u001B[0m \u001B[0;31m# Version using fd-based APIs to protect against races\u001B[0m\u001B[0;34m\u001B[0m\u001B[0;34m\u001B[0m\u001B[0;34m\u001B[0m\u001B[0m\n",
      "\u001B[0;32m/Library/Frameworks/Python.framework/Versions/3.8/lib/python3.8/shutil.py\u001B[0m in \u001B[0;36m_rmtree_unsafe\u001B[0;34m(path, onerror)\u001B[0m\n\u001B[1;32m    618\u001B[0m                 \u001B[0monerror\u001B[0m\u001B[0;34m(\u001B[0m\u001B[0mos\u001B[0m\u001B[0;34m.\u001B[0m\u001B[0munlink\u001B[0m\u001B[0;34m,\u001B[0m \u001B[0mfullname\u001B[0m\u001B[0;34m,\u001B[0m \u001B[0msys\u001B[0m\u001B[0;34m.\u001B[0m\u001B[0mexc_info\u001B[0m\u001B[0;34m(\u001B[0m\u001B[0;34m)\u001B[0m\u001B[0;34m)\u001B[0m\u001B[0;34m\u001B[0m\u001B[0;34m\u001B[0m\u001B[0m\n\u001B[1;32m    619\u001B[0m     \u001B[0;32mtry\u001B[0m\u001B[0;34m:\u001B[0m\u001B[0;34m\u001B[0m\u001B[0;34m\u001B[0m\u001B[0m\n\u001B[0;32m--> 620\u001B[0;31m         \u001B[0mos\u001B[0m\u001B[0;34m.\u001B[0m\u001B[0mrmdir\u001B[0m\u001B[0;34m(\u001B[0m\u001B[0mpath\u001B[0m\u001B[0;34m)\u001B[0m\u001B[0;34m\u001B[0m\u001B[0;34m\u001B[0m\u001B[0m\n\u001B[0m\u001B[1;32m    621\u001B[0m     \u001B[0;32mexcept\u001B[0m \u001B[0mOSError\u001B[0m\u001B[0;34m:\u001B[0m\u001B[0;34m\u001B[0m\u001B[0;34m\u001B[0m\u001B[0m\n\u001B[1;32m    622\u001B[0m         \u001B[0monerror\u001B[0m\u001B[0;34m(\u001B[0m\u001B[0mos\u001B[0m\u001B[0;34m.\u001B[0m\u001B[0mrmdir\u001B[0m\u001B[0;34m,\u001B[0m \u001B[0mpath\u001B[0m\u001B[0;34m,\u001B[0m \u001B[0msys\u001B[0m\u001B[0;34m.\u001B[0m\u001B[0mexc_info\u001B[0m\u001B[0;34m(\u001B[0m\u001B[0;34m)\u001B[0m\u001B[0;34m)\u001B[0m\u001B[0;34m\u001B[0m\u001B[0;34m\u001B[0m\u001B[0m\n",
      "\u001B[0;31mOSError\u001B[0m: [Errno 66] Directory not empty: '../resources/ILSVRC/Annotations/CLS-LOC/train'"
     ]
    }
   ],
   "source": [
    "import shutil\n",
    "shutil.rmtree('../resources/ILSVRC')"
   ],
   "metadata": {
    "collapsed": false,
    "pycharm": {
     "name": "#%%\n"
    }
   },
   "id": "ff9877cda460960a"
  },
  {
   "cell_type": "code",
   "execution_count": null,
   "outputs": [],
   "source": [],
   "metadata": {
    "collapsed": false,
    "pycharm": {
     "name": "#%%\n"
    }
   },
   "id": "dcd868bfc48949a3"
  }
 ],
 "metadata": {
  "kernelspec": {
   "display_name": "Python 3 (ipykernel)",
   "language": "python",
   "name": "python3"
  },
  "language_info": {
   "codemirror_mode": {
    "name": "ipython",
    "version": 3
   },
   "file_extension": ".py",
   "mimetype": "text/x-python",
   "name": "python",
   "nbconvert_exporter": "python",
   "pygments_lexer": "ipython3",
   "version": "3.9.7"
  }
 },
 "nbformat": 4,
 "nbformat_minor": 5
}
